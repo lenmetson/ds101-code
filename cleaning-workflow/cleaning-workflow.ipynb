{
 "cells": [
  {
   "cell_type": "markdown",
   "metadata": {},
   "source": [
    "Whoop whoop!\n",
    "\n",
    "**Here** is my Jupyter *Notebook*"
   ]
  }
 ],
 "metadata": {
  "interpreter": {
   "hash": "b921d7bd02c728bd9c340aa0b254d84c125334841aeeae2202a57a557930e9c1"
  },
  "kernelspec": {
   "display_name": "Python 3.8.12 64-bit ('env-1': conda)",
   "language": "python",
   "name": "python3"
  },
  "language_info": {
   "codemirror_mode": {
    "name": "ipython",
    "version": 3
   },
   "file_extension": ".py",
   "mimetype": "text/x-python",
   "name": "python",
   "nbconvert_exporter": "python",
   "pygments_lexer": "ipython3",
   "version": "3.8.12"
  },
  "orig_nbformat": 4
 },
 "nbformat": 4,
 "nbformat_minor": 2
}
