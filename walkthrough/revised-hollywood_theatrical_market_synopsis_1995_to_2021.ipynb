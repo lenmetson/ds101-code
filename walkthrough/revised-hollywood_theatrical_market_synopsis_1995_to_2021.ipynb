{
  "cells": [
    {
      "cell_type": "markdown",
      "source": [
        "# Data: Hollywood Theatrical Market Synopsys 1995-2021\n",
        "\n",
        "The original dataset and notebook can be found on [Kaggle](https://www.kaggle.com/mpwolke/holywood-theatrical-market-1995-2021). Notebook by Majid Bazrpach\n",
        "\n",
        "## About this Dataset\n",
        "\n",
        "Hollywood Theatrical Market Synopsis 1995 to 2021 | North American Domestic Movies Theatrical Market Synopsis \n",
        "\n",
        "Source: https://www.kaggle.com/majidbazrpach/hollywood-theatrical-market-synopsis-1995-to-2021/data\n",
        "\n",
        "![](https://images7.alphacoders.com/116/thumb-350-1165584.jpg)\n",
        "\n",
        "### Context\n",
        "\n",
        "This Dataset contains the data of market analysis built on The Numbers unique categorization system, which uses 6 different criteria to identify a movie. All movies released since 1995 are categorized according to the following attributes: Creative type (factual, contemporary fiction, fantasy etc.), Source (book, play, original screenplay etc.), Genre (drama, horror, documentary etc.), MPAA rating, Production method (live action, digital animation etc.) and Distributor. In order to provide a fair comparison between movies released in different years, all rankings are based on ticket sales, which are calculated using average ticket prices announced by the MPAA in their annual state of the industry report.\n",
        "\n",
        "### Content\n",
        "\n",
        "The Dataset contains various files illustrating statistics such as annual ticket sales, highest grossers each year since 1995, top grossing creative types, top grossing distributors, top grossing genres, top grossing MPAA ratings, top grossing sources, top grossing production methods and the number of wide releases each year by various distributors.\n",
        "Acknowledgements\n",
        "\n",
        "The data was obtained from The Numbers website. Their theatrical market pages are based on the domestic theatrical market performance only. The domestic market is defined as the North American movie region (consisting of the United States, Canada, Puerto Rico and Guam). This data can be found from the website https://www.the-numbers.com/market/ with detailed analysis.\n",
        "\n",
        "### Inspiration\n",
        "\n",
        "2020 and 2021 have been rough years for the movie industry, and being a huge movie fanatic inspired me to share a dataset showing the exponential growth of box office collections as well as ticket sales over time (and the decline after 2020 due to the Covid-19 pandemic) indirectly indicating the quality of modern day films. This Dataset can also be used to study the genres which attract audience the most and encourage one to create an amazing genre specific plot in order to take one step closer to becoming the next most successful director!"
      ],
      "metadata": {
        "id": "FqWhz32iACjQ"
      },
      "id": "FqWhz32iACjQ"
    },
    {
      "cell_type": "markdown",
      "source": [
        "# Python packages"
      ],
      "metadata": {
        "id": "D6ZnEEu3Ayq7"
      },
      "id": "D6ZnEEu3Ayq7"
    },
    {
      "cell_type": "code",
      "execution_count": null,
      "id": "11239a03",
      "metadata": {
        "_cell_guid": "b1076dfc-b9ad-4769-8c92-a6c4dae69d19",
        "_uuid": "8f2839f25d086af736a60e9eeb907d3b93b6e0e5",
        "execution": {
          "iopub.execute_input": "2022-01-15T13:23:23.408871Z",
          "iopub.status.busy": "2022-01-15T13:23:23.407580Z",
          "iopub.status.idle": "2022-01-15T13:23:27.312715Z",
          "shell.execute_reply": "2022-01-15T13:23:27.311884Z",
          "shell.execute_reply.started": "2022-01-15T13:04:47.882039Z"
        },
        "papermill": {
          "duration": 3.941652,
          "end_time": "2022-01-15T13:23:27.312923",
          "exception": false,
          "start_time": "2022-01-15T13:23:23.371271",
          "status": "completed"
        },
        "tags": [],
        "id": "11239a03"
      },
      "outputs": [],
      "source": [
        "# This Python 3 environment comes with many helpful analytics libraries installed\n",
        "# It is defined by the kaggle/python Docker image: https://github.com/kaggle/docker-python\n",
        "# For example, here's several helpful packages to load\n",
        "\n",
        "import numpy as np # linear algebra\n",
        "import pandas as pd # data processing, CSV file I/O (e.g. pd.read_csv)\n",
        "import chart_studio\n",
        "\n",
        "import numpy as np\n",
        "import matplotlib.pyplot as plt\n",
        "import pandas as pd\n",
        "import seaborn as sns\n",
        "import plotly.express as px\n",
        "import cufflinks as cf\n",
        "from scipy import stats\n",
        "%matplotlib inline\n",
        "\n",
        "\n",
        "\n",
        "from plotly import plot\n",
        "\n",
        "# init_notebook_mode(connected = True)\n",
        "# cf.go_offline()"
      ]
    },
    {
      "cell_type": "code",
      "source": [
        "# Install required python package\n",
        "\n",
        "!pip install chart_studio"
      ],
      "metadata": {
        "id": "z96OBXDx_0Wk"
      },
      "id": "z96OBXDx_0Wk",
      "execution_count": null,
      "outputs": []
    },
    {
      "cell_type": "markdown",
      "id": "ce7fb7cd",
      "metadata": {
        "papermill": {
          "duration": 0.031971,
          "end_time": "2022-01-15T13:23:27.378129",
          "exception": false,
          "start_time": "2022-01-15T13:23:27.346158",
          "status": "completed"
        },
        "tags": [],
        "id": "ce7fb7cd"
      },
      "source": [
        "# Data Input\n",
        "\n",
        "## Importing Data"
      ]
    },
    {
      "cell_type": "code",
      "execution_count": null,
      "id": "73b78bdd",
      "metadata": {
        "execution": {
          "iopub.execute_input": "2022-01-15T13:23:27.448972Z",
          "iopub.status.busy": "2022-01-15T13:23:27.448238Z",
          "iopub.status.idle": "2022-01-15T13:23:27.481931Z",
          "shell.execute_reply": "2022-01-15T13:23:27.482456Z",
          "shell.execute_reply.started": "2022-01-15T13:04:47.905611Z"
        },
        "papermill": {
          "duration": 0.07225,
          "end_time": "2022-01-15T13:23:27.482640",
          "exception": false,
          "start_time": "2022-01-15T13:23:27.410390",
          "status": "completed"
        },
        "tags": [],
        "id": "73b78bdd"
      },
      "outputs": [],
      "source": [
        "PopularCreativeTypes = pd.read_csv(\"PopularCreativeTypes.csv\");\n",
        "HighestGrossers = pd.read_csv(\"HighestGrossers.csv\");\n",
        "Data_Annual_Ticket = pd.read_csv(\"AnnualTicketSales.csv\",thousands = ',');"
      ]
    },
    {
      "cell_type": "markdown",
      "id": "85aed057",
      "metadata": {
        "papermill": {
          "duration": 0.032037,
          "end_time": "2022-01-15T13:23:27.547770",
          "exception": false,
          "start_time": "2022-01-15T13:23:27.515733",
          "status": "completed"
        },
        "tags": [],
        "id": "85aed057"
      },
      "source": [
        "## Cleaning and Tiding Data"
      ]
    },
    {
      "cell_type": "code",
      "execution_count": null,
      "id": "c7b773cb",
      "metadata": {
        "execution": {
          "iopub.execute_input": "2022-01-15T13:23:27.615785Z",
          "iopub.status.busy": "2022-01-15T13:23:27.614793Z",
          "iopub.status.idle": "2022-01-15T13:23:27.643253Z",
          "shell.execute_reply": "2022-01-15T13:23:27.642544Z",
          "shell.execute_reply.started": "2022-01-15T13:04:47.943915Z"
        },
        "papermill": {
          "duration": 0.063446,
          "end_time": "2022-01-15T13:23:27.643421",
          "exception": false,
          "start_time": "2022-01-15T13:23:27.579975",
          "status": "completed"
        },
        "tags": [],
        "id": "c7b773cb"
      },
      "outputs": [],
      "source": [
        "Data_Annual_Ticket[\"TICKETS SOLD\"] = Data_Annual_Ticket[\"TICKETS SOLD\"].replace(',','', regex=False)\n",
        "\n",
        "Data_Annual_Ticket[\"TOTAL BOX OFFICE\"] = Data_Annual_Ticket[\"TOTAL BOX OFFICE\"].str.replace(',','', regex=False)\n",
        "Data_Annual_Ticket[\"TOTAL BOX OFFICE\"] = Data_Annual_Ticket[\"TOTAL BOX OFFICE\"].str.replace('$','', regex=False)\n",
        "\n",
        "Data_Annual_Ticket[\"TOTAL INFLATION ADJUSTED BOX OFFICE\"] = Data_Annual_Ticket[\"TOTAL INFLATION ADJUSTED BOX OFFICE\"].str.replace(',','', regex=False)\n",
        "Data_Annual_Ticket[\"TOTAL INFLATION ADJUSTED BOX OFFICE\"] = Data_Annual_Ticket[\"TOTAL INFLATION ADJUSTED BOX OFFICE\"].str.replace('$','', regex=False)\n",
        "\n",
        "Data_Annual_Ticket[\"AVERAGE TICKET PRICE\"] = Data_Annual_Ticket[\"AVERAGE TICKET PRICE\"].str.replace('$','', regex=False)\n",
        "\n",
        "Data_Annual_Ticket = Data_Annual_Ticket.drop(labels = \"Unnamed: 5\",axis = 1)"
      ]
    },
    {
      "cell_type": "code",
      "execution_count": null,
      "id": "7e43ff88",
      "metadata": {
        "execution": {
          "iopub.execute_input": "2022-01-15T13:23:27.715290Z",
          "iopub.status.busy": "2022-01-15T13:23:27.714605Z",
          "iopub.status.idle": "2022-01-15T13:23:27.733281Z",
          "shell.execute_reply": "2022-01-15T13:23:27.733820Z",
          "shell.execute_reply.started": "2022-01-15T13:04:47.968658Z"
        },
        "papermill": {
          "duration": 0.05515,
          "end_time": "2022-01-15T13:23:27.734029",
          "exception": false,
          "start_time": "2022-01-15T13:23:27.678879",
          "status": "completed"
        },
        "tags": [],
        "id": "7e43ff88"
      },
      "outputs": [],
      "source": [
        "Data_Annual_Ticket.head(5)"
      ]
    },
    {
      "cell_type": "markdown",
      "id": "f8eda678",
      "metadata": {
        "papermill": {
          "duration": 0.03269,
          "end_time": "2022-01-15T13:23:27.800760",
          "exception": false,
          "start_time": "2022-01-15T13:23:27.768070",
          "status": "completed"
        },
        "tags": [],
        "id": "f8eda678"
      },
      "source": [
        "**Changing the type of Data(object to float)**"
      ]
    },
    {
      "cell_type": "code",
      "execution_count": null,
      "id": "d62c4c76",
      "metadata": {
        "execution": {
          "iopub.execute_input": "2022-01-15T13:23:27.870756Z",
          "iopub.status.busy": "2022-01-15T13:23:27.870114Z",
          "iopub.status.idle": "2022-01-15T13:23:27.876172Z",
          "shell.execute_reply": "2022-01-15T13:23:27.876702Z",
          "shell.execute_reply.started": "2022-01-15T13:04:47.987610Z"
        },
        "papermill": {
          "duration": 0.043063,
          "end_time": "2022-01-15T13:23:27.876957",
          "exception": false,
          "start_time": "2022-01-15T13:23:27.833894",
          "status": "completed"
        },
        "tags": [],
        "id": "d62c4c76"
      },
      "outputs": [],
      "source": [
        "Data_Annual_Ticket['TICKETS SOLD'] = Data_Annual_Ticket['TICKETS SOLD'].astype(float)\n",
        "Data_Annual_Ticket['TOTAL BOX OFFICE'] = Data_Annual_Ticket['TOTAL BOX OFFICE'].astype(float)"
      ]
    },
    {
      "cell_type": "markdown",
      "id": "c6b810f8",
      "metadata": {
        "papermill": {
          "duration": 0.033455,
          "end_time": "2022-01-15T13:23:27.943670",
          "exception": false,
          "start_time": "2022-01-15T13:23:27.910215",
          "status": "completed"
        },
        "tags": [],
        "id": "c6b810f8"
      },
      "source": [
        "# Visualize\n",
        "\n",
        "**Using bar chart to illustrate the total box office each year**"
      ]
    },
    {
      "cell_type": "code",
      "execution_count": null,
      "id": "76fead61",
      "metadata": {
        "execution": {
          "iopub.execute_input": "2022-01-15T13:23:28.017988Z",
          "iopub.status.busy": "2022-01-15T13:23:28.017288Z",
          "iopub.status.idle": "2022-01-15T13:23:28.959983Z",
          "shell.execute_reply": "2022-01-15T13:23:28.960539Z",
          "shell.execute_reply.started": "2022-01-15T13:04:47.996125Z"
        },
        "papermill": {
          "duration": 0.98214,
          "end_time": "2022-01-15T13:23:28.960736",
          "exception": false,
          "start_time": "2022-01-15T13:23:27.978596",
          "status": "completed"
        },
        "tags": [],
        "id": "76fead61"
      },
      "outputs": [],
      "source": [
        "px.bar(Data_Annual_Ticket\n",
        "            ,x = 'YEAR'\n",
        "            ,y = 'TOTAL BOX OFFICE'\n",
        "            ,title = 'Total Box Office vs. Year')"
      ]
    },
    {
      "cell_type": "markdown",
      "id": "58be5183",
      "metadata": {
        "papermill": {
          "duration": 0.042138,
          "end_time": "2022-01-15T13:23:29.044200",
          "exception": false,
          "start_time": "2022-01-15T13:23:29.002062",
          "status": "completed"
        },
        "tags": [],
        "id": "58be5183"
      },
      "source": [
        "**Calculating the total box office if last two years were normal years (*using linear regression*)**"
      ]
    },
    {
      "cell_type": "code",
      "execution_count": null,
      "id": "e300a8fe",
      "metadata": {
        "execution": {
          "iopub.execute_input": "2022-01-15T13:23:29.133565Z",
          "iopub.status.busy": "2022-01-15T13:23:29.132706Z",
          "iopub.status.idle": "2022-01-15T13:23:29.141900Z",
          "shell.execute_reply": "2022-01-15T13:23:29.142423Z",
          "shell.execute_reply.started": "2022-01-15T13:04:48.916160Z"
        },
        "papermill": {
          "duration": 0.058128,
          "end_time": "2022-01-15T13:23:29.142648",
          "exception": false,
          "start_time": "2022-01-15T13:23:29.084520",
          "status": "completed"
        },
        "tags": [],
        "id": "e300a8fe"
      },
      "outputs": [],
      "source": [
        "x = list(range(0,(2020-1995)))\n",
        "y = list(Data_Annual_Ticket['TOTAL BOX OFFICE'] )\n",
        "y.reverse()\n",
        "y.pop()\n",
        "y.pop()\n",
        "slope, intercept, r, p, std_err = stats.linregress(x, y)\n",
        "x1 = list(range(0,(2022-1995)))\n",
        "y1= [slope * x + intercept for x in x1 ]\n",
        "y1.reverse()\n",
        "Data_Annual_Ticket['TOTAL BOX OFFICE WITHOUT COVID'] = y1\n",
        "Data_Annual_Ticket[\"Diff\"] = Data_Annual_Ticket['TOTAL BOX OFFICE WITHOUT COVID']-Data_Annual_Ticket['TOTAL BOX OFFICE']"
      ]
    },
    {
      "cell_type": "markdown",
      "id": "9464c578",
      "metadata": {
        "papermill": {
          "duration": 0.040782,
          "end_time": "2022-01-15T13:23:29.229334",
          "exception": false,
          "start_time": "2022-01-15T13:23:29.188552",
          "status": "completed"
        },
        "tags": [],
        "id": "9464c578"
      },
      "source": [
        "**Illustrate the difference between total box office with covid and without covid**"
      ]
    },
    {
      "cell_type": "code",
      "execution_count": null,
      "id": "45388058",
      "metadata": {
        "execution": {
          "iopub.execute_input": "2022-01-15T13:23:29.314329Z",
          "iopub.status.busy": "2022-01-15T13:23:29.313628Z",
          "iopub.status.idle": "2022-01-15T13:23:29.426994Z",
          "shell.execute_reply": "2022-01-15T13:23:29.426296Z",
          "shell.execute_reply.started": "2022-01-15T13:04:48.932813Z"
        },
        "papermill": {
          "duration": 0.156254,
          "end_time": "2022-01-15T13:23:29.427165",
          "exception": false,
          "start_time": "2022-01-15T13:23:29.270911",
          "status": "completed"
        },
        "tags": [],
        "id": "45388058"
      },
      "outputs": [],
      "source": [
        "px.line(Data_Annual_Ticket\n",
        "       ,x = 'YEAR'\n",
        "       ,y = [\"TOTAL BOX OFFICE\",\"TOTAL BOX OFFICE WITHOUT COVID\"]\n",
        "       ,labels = {'YEAR' :\"Years\", \"value\": \"Total Sale\"}\n",
        "       ,title = 'TOTAL BOX OFFICE vs TOTAL BOX OFFICE WITHOUT COVID')"
      ]
    },
    {
      "cell_type": "markdown",
      "id": "99116099",
      "metadata": {
        "papermill": {
          "duration": 0.047357,
          "end_time": "2022-01-15T13:23:29.522492",
          "exception": false,
          "start_time": "2022-01-15T13:23:29.475135",
          "status": "completed"
        },
        "tags": [],
        "id": "99116099"
      },
      "source": [
        "**Calculate that how much does covid-19 affect on last two years** "
      ]
    },
    {
      "cell_type": "code",
      "execution_count": null,
      "id": "86f35664",
      "metadata": {
        "execution": {
          "iopub.execute_input": "2022-01-15T13:23:29.621531Z",
          "iopub.status.busy": "2022-01-15T13:23:29.620513Z",
          "iopub.status.idle": "2022-01-15T13:23:29.688994Z",
          "shell.execute_reply": "2022-01-15T13:23:29.688236Z",
          "shell.execute_reply.started": "2022-01-15T13:04:49.034311Z"
        },
        "papermill": {
          "duration": 0.119263,
          "end_time": "2022-01-15T13:23:29.689187",
          "exception": false,
          "start_time": "2022-01-15T13:23:29.569924",
          "status": "completed"
        },
        "tags": [],
        "id": "86f35664"
      },
      "outputs": [],
      "source": [
        "px.bar(Data_Annual_Ticket\n",
        "       ,x = 'YEAR'\n",
        "       ,y = \"Diff\"\n",
        "       ,labels = {'YEAR' :\"Year\", \"Diff\": \"Financial Loss\"}\n",
        "       ,title = 'Financial Loss (just last two years are important)'\n",
        "       ,barmode='group')"
      ]
    },
    {
      "cell_type": "markdown",
      "id": "5cedde89",
      "metadata": {
        "papermill": {
          "duration": 0.054508,
          "end_time": "2022-01-15T13:23:29.799278",
          "exception": false,
          "start_time": "2022-01-15T13:23:29.744770",
          "status": "completed"
        },
        "tags": [],
        "id": "5cedde89"
      },
      "source": [
        "\n",
        "**How much does covid-19 affect on total box ofice in last two years in percent?**"
      ]
    },
    {
      "cell_type": "code",
      "execution_count": null,
      "id": "9d3a02a1",
      "metadata": {
        "execution": {
          "iopub.execute_input": "2022-01-15T13:23:29.909403Z",
          "iopub.status.busy": "2022-01-15T13:23:29.908413Z",
          "iopub.status.idle": "2022-01-15T13:23:29.976693Z",
          "shell.execute_reply": "2022-01-15T13:23:29.977241Z",
          "shell.execute_reply.started": "2022-01-15T13:04:49.093362Z"
        },
        "papermill": {
          "duration": 0.124996,
          "end_time": "2022-01-15T13:23:29.977420",
          "exception": false,
          "start_time": "2022-01-15T13:23:29.852424",
          "status": "completed"
        },
        "tags": [],
        "id": "9d3a02a1"
      },
      "outputs": [],
      "source": [
        "Data_Annual_Ticket[\"Percentage of Financial Loss\"] = (Data_Annual_Ticket[\"TOTAL BOX OFFICE WITHOUT COVID\"]-Data_Annual_Ticket[\"TOTAL BOX OFFICE\"])/Data_Annual_Ticket[\"TOTAL BOX OFFICE WITHOUT COVID\"]*100\n",
        "\n",
        "px.bar(Data_Annual_Ticket\n",
        "       , x = 'YEAR'\n",
        "       , y = \"Percentage of Financial Loss\"\n",
        "       ,labels = {'YEAR' :\"Year\", \"Percentage of Financial Loss\": \"Percentage of Financial Loss %\"}\n",
        "       ,title = 'Financial Loss % (just last two years are important) ')"
      ]
    },
    {
      "cell_type": "markdown",
      "id": "aee7667c",
      "metadata": {
        "papermill": {
          "duration": 0.059983,
          "end_time": "2022-01-15T13:23:30.099777",
          "exception": false,
          "start_time": "2022-01-15T13:23:30.039794",
          "status": "completed"
        },
        "tags": [],
        "id": "aee7667c"
      },
      "source": [
        "# Now Visualizing the Highest Grossers"
      ]
    },
    {
      "cell_type": "markdown",
      "id": "5a3a25c8",
      "metadata": {
        "papermill": {
          "duration": 0.059462,
          "end_time": "2022-01-15T13:23:30.218908",
          "exception": false,
          "start_time": "2022-01-15T13:23:30.159446",
          "status": "completed"
        },
        "tags": [],
        "id": "5a3a25c8"
      },
      "source": [
        "**Cleaning and Tiding Data**"
      ]
    },
    {
      "cell_type": "code",
      "execution_count": null,
      "id": "c3e3ccf2",
      "metadata": {
        "execution": {
          "iopub.execute_input": "2022-01-15T13:23:30.343464Z",
          "iopub.status.busy": "2022-01-15T13:23:30.342500Z",
          "iopub.status.idle": "2022-01-15T13:23:30.353402Z",
          "shell.execute_reply": "2022-01-15T13:23:30.352897Z",
          "shell.execute_reply.started": "2022-01-15T13:04:49.151982Z"
        },
        "papermill": {
          "duration": 0.073476,
          "end_time": "2022-01-15T13:23:30.353556",
          "exception": false,
          "start_time": "2022-01-15T13:23:30.280080",
          "status": "completed"
        },
        "tags": [],
        "id": "c3e3ccf2"
      },
      "outputs": [],
      "source": [
        "HighestGrossers[\"TOTAL IN 2019 DOLLARS\"] = HighestGrossers[\"TOTAL IN 2019 DOLLARS\"].str.replace(',','', regex=False)\n",
        "HighestGrossers[\"TOTAL IN 2019 DOLLARS\"] = HighestGrossers[\"TOTAL IN 2019 DOLLARS\"].str.replace('$','', regex=False)\n",
        "\n",
        "HighestGrossers[\"TICKETS SOLD\"] = HighestGrossers[\"TICKETS SOLD\"].str.replace(',','')\n",
        "\n",
        "HighestGrossers['TOTAL IN 2019 DOLLARS'] = HighestGrossers['TOTAL IN 2019 DOLLARS'].astype(float)\n",
        "HighestGrossers['TICKETS SOLD'] = HighestGrossers['TICKETS SOLD'].astype(float)"
      ]
    },
    {
      "cell_type": "code",
      "execution_count": null,
      "id": "36970621",
      "metadata": {
        "execution": {
          "iopub.execute_input": "2022-01-15T13:23:30.477727Z",
          "iopub.status.busy": "2022-01-15T13:23:30.476772Z",
          "iopub.status.idle": "2022-01-15T13:23:30.491127Z",
          "shell.execute_reply": "2022-01-15T13:23:30.491674Z",
          "shell.execute_reply.started": "2022-01-15T13:04:49.164306Z"
        },
        "papermill": {
          "duration": 0.078316,
          "end_time": "2022-01-15T13:23:30.491863",
          "exception": false,
          "start_time": "2022-01-15T13:23:30.413547",
          "status": "completed"
        },
        "tags": [],
        "id": "36970621"
      },
      "outputs": [],
      "source": [
        "HighestGrossers.head(5)"
      ]
    },
    {
      "cell_type": "markdown",
      "id": "8ea177c9",
      "metadata": {
        "papermill": {
          "duration": 0.059768,
          "end_time": "2022-01-15T13:23:30.611650",
          "exception": false,
          "start_time": "2022-01-15T13:23:30.551882",
          "status": "completed"
        },
        "tags": [],
        "id": "8ea177c9"
      },
      "source": [
        "**Because of the inflation we just used TOTAL IN 2019 DOLLARS column**"
      ]
    },
    {
      "cell_type": "markdown",
      "id": "259a3b90",
      "metadata": {
        "papermill": {
          "duration": 0.060043,
          "end_time": "2022-01-15T13:23:30.731881",
          "exception": false,
          "start_time": "2022-01-15T13:23:30.671838",
          "status": "completed"
        },
        "tags": [],
        "id": "259a3b90"
      },
      "source": [
        "**We use pie chart to illustrate the percentage of different thing**"
      ]
    },
    {
      "cell_type": "code",
      "execution_count": null,
      "id": "8eaf6374",
      "metadata": {
        "execution": {
          "iopub.execute_input": "2022-01-15T13:23:30.862272Z",
          "iopub.status.busy": "2022-01-15T13:23:30.854948Z",
          "iopub.status.idle": "2022-01-15T13:23:30.925448Z",
          "shell.execute_reply": "2022-01-15T13:23:30.924708Z",
          "shell.execute_reply.started": "2022-01-15T13:10:41.484524Z"
        },
        "papermill": {
          "duration": 0.133656,
          "end_time": "2022-01-15T13:23:30.925606",
          "exception": false,
          "start_time": "2022-01-15T13:23:30.791950",
          "status": "completed"
        },
        "tags": [],
        "id": "8eaf6374"
      },
      "outputs": [],
      "source": [
        "px.pie(HighestGrossers\n",
        "       ,values = 'TOTAL IN 2019 DOLLARS' \n",
        "       ,names = 'DISTRIBUTOR'\n",
        "       ,title = 'Percentage of Each Distributors in Total Ticket Sale'\n",
        "       ,color_discrete_sequence = px.colors.sequential.RdBu\n",
        "       ,height = 600\n",
        "       )"
      ]
    },
    {
      "cell_type": "code",
      "execution_count": null,
      "id": "3e2e6c23",
      "metadata": {
        "execution": {
          "iopub.execute_input": "2022-01-15T13:23:31.069361Z",
          "iopub.status.busy": "2022-01-15T13:23:31.068362Z",
          "iopub.status.idle": "2022-01-15T13:23:31.123394Z",
          "shell.execute_reply": "2022-01-15T13:23:31.123953Z",
          "shell.execute_reply.started": "2022-01-15T13:11:17.291288Z"
        },
        "papermill": {
          "duration": 0.126592,
          "end_time": "2022-01-15T13:23:31.124151",
          "exception": false,
          "start_time": "2022-01-15T13:23:30.997559",
          "status": "completed"
        },
        "tags": [],
        "id": "3e2e6c23"
      },
      "outputs": [],
      "source": [
        "px.pie(HighestGrossers\n",
        "       ,values = 'TOTAL IN 2019 DOLLARS' \n",
        "       ,names = 'MPAA RATING'\n",
        "       ,title = 'Percentage of Each MPAA Rating in Total Ticket Sale'\n",
        "       ,color_discrete_sequence = px.colors.sequential.RdBu\n",
        "       ,height = 600\n",
        "       )"
      ]
    },
    {
      "cell_type": "markdown",
      "id": "5d732361",
      "metadata": {
        "papermill": {
          "duration": 0.074311,
          "end_time": "2022-01-15T13:23:31.272935",
          "exception": false,
          "start_time": "2022-01-15T13:23:31.198624",
          "status": "completed"
        },
        "tags": [],
        "id": "5d732361"
      },
      "source": [
        "**using bar chart to state the sum of total ticket sale each distributor and each genre**"
      ]
    },
    {
      "cell_type": "code",
      "execution_count": null,
      "id": "8e5d8669",
      "metadata": {
        "execution": {
          "iopub.execute_input": "2022-01-15T13:23:31.426946Z",
          "iopub.status.busy": "2022-01-15T13:23:31.425941Z",
          "iopub.status.idle": "2022-01-15T13:23:31.524778Z",
          "shell.execute_reply": "2022-01-15T13:23:31.525352Z",
          "shell.execute_reply.started": "2022-01-15T13:11:40.885949Z"
        },
        "papermill": {
          "duration": 0.176781,
          "end_time": "2022-01-15T13:23:31.525530",
          "exception": false,
          "start_time": "2022-01-15T13:23:31.348749",
          "status": "completed"
        },
        "tags": [],
        "id": "8e5d8669"
      },
      "outputs": [],
      "source": [
        "df_g = HighestGrossers.groupby(by =['DISTRIBUTOR','GENRE'])['TICKETS SOLD'].sum()\n",
        "df_g = df_g.reset_index()\n",
        "\n",
        "px.bar(df_g\n",
        "       ,x = 'DISTRIBUTOR'\n",
        "       ,y = 'TICKETS SOLD'\n",
        "       ,barmode='group'\n",
        "       ,color = 'GENRE')"
      ]
    },
    {
      "cell_type": "markdown",
      "id": "c1f5e21d",
      "metadata": {
        "papermill": {
          "duration": 0.079744,
          "end_time": "2022-01-15T13:23:31.686747",
          "exception": false,
          "start_time": "2022-01-15T13:23:31.607003",
          "status": "completed"
        },
        "tags": [],
        "id": "c1f5e21d"
      },
      "source": [
        "**using bar chart to state the count of total ticket sale each distributor and each genre**"
      ]
    },
    {
      "cell_type": "markdown",
      "source": [
        ""
      ],
      "metadata": {
        "id": "t4k99uAGBO9R"
      },
      "id": "t4k99uAGBO9R"
    },
    {
      "cell_type": "code",
      "execution_count": null,
      "id": "906d0374",
      "metadata": {
        "execution": {
          "iopub.execute_input": "2022-01-15T13:23:31.851193Z",
          "iopub.status.busy": "2022-01-15T13:23:31.850169Z",
          "iopub.status.idle": "2022-01-15T13:23:31.901515Z",
          "shell.execute_reply": "2022-01-15T13:23:31.902076Z",
          "shell.execute_reply.started": "2022-01-15T13:13:29.416413Z"
        },
        "papermill": {
          "duration": 0.135349,
          "end_time": "2022-01-15T13:23:31.902261",
          "exception": false,
          "start_time": "2022-01-15T13:23:31.766912",
          "status": "completed"
        },
        "tags": [],
        "id": "906d0374"
      },
      "outputs": [],
      "source": [
        "df_g = HighestGrossers.groupby(by =['DISTRIBUTOR','GENRE'])['TICKETS SOLD'].count()\n",
        "\n",
        "df_g = df_g.reset_index()\n",
        "\n",
        "px.bar(df_g\n",
        "       ,x = 'DISTRIBUTOR'\n",
        "       ,y = 'TICKETS SOLD'\n",
        "       ,barmode='group'\n",
        "       ,color = 'GENRE')"
      ]
    },
    {
      "cell_type": "markdown",
      "id": "651bf8f8",
      "metadata": {
        "papermill": {
          "duration": 0.087456,
          "end_time": "2022-01-15T13:23:32.077782",
          "exception": false,
          "start_time": "2022-01-15T13:23:31.990326",
          "status": "completed"
        },
        "tags": [],
        "id": "651bf8f8"
      },
      "source": [
        "**doing the same thing to the MPAA rating**\n"
      ]
    },
    {
      "cell_type": "code",
      "execution_count": null,
      "id": "0618b897",
      "metadata": {
        "execution": {
          "iopub.execute_input": "2022-01-15T13:23:32.274162Z",
          "iopub.status.busy": "2022-01-15T13:23:32.273307Z",
          "iopub.status.idle": "2022-01-15T13:23:32.339461Z",
          "shell.execute_reply": "2022-01-15T13:23:32.340052Z",
          "shell.execute_reply.started": "2022-01-15T13:14:29.297857Z"
        },
        "papermill": {
          "duration": 0.17365,
          "end_time": "2022-01-15T13:23:32.340269",
          "exception": false,
          "start_time": "2022-01-15T13:23:32.166619",
          "status": "completed"
        },
        "tags": [],
        "id": "0618b897"
      },
      "outputs": [],
      "source": [
        "df_g = HighestGrossers.groupby(by =['DISTRIBUTOR','MPAA RATING'])['TICKETS SOLD'].sum()\n",
        "\n",
        "df_g = df_g.reset_index()\n",
        "\n",
        "px.bar(df_g\n",
        "       ,x = 'DISTRIBUTOR'\n",
        "       ,y = 'TICKETS SOLD'\n",
        "       ,barmode='group'\n",
        "       ,color = 'MPAA RATING')"
      ]
    },
    {
      "cell_type": "code",
      "execution_count": null,
      "id": "d7c30cba",
      "metadata": {
        "execution": {
          "iopub.execute_input": "2022-01-15T13:23:32.546389Z",
          "iopub.status.busy": "2022-01-15T13:23:32.545437Z",
          "iopub.status.idle": "2022-01-15T13:23:32.598254Z",
          "shell.execute_reply": "2022-01-15T13:23:32.598793Z",
          "shell.execute_reply.started": "2022-01-15T13:14:38.263488Z"
        },
        "papermill": {
          "duration": 0.160164,
          "end_time": "2022-01-15T13:23:32.599011",
          "exception": false,
          "start_time": "2022-01-15T13:23:32.438847",
          "status": "completed"
        },
        "tags": [],
        "id": "d7c30cba"
      },
      "outputs": [],
      "source": [
        "df_g = HighestGrossers.groupby(by =['DISTRIBUTOR','MPAA RATING'])['TICKETS SOLD'].count()\n",
        "\n",
        "df_g = df_g.reset_index()\n",
        "\n",
        "px.bar(df_g\n",
        "       ,x = 'DISTRIBUTOR'\n",
        "       ,y = 'TICKETS SOLD'\n",
        "       ,barmode='group'\n",
        "       ,color = 'MPAA RATING')"
      ]
    },
    {
      "cell_type": "markdown",
      "id": "b3437b82",
      "metadata": {
        "papermill": {
          "duration": 0.105195,
          "end_time": "2022-01-15T13:23:32.807765",
          "exception": false,
          "start_time": "2022-01-15T13:23:32.702570",
          "status": "completed"
        },
        "tags": [],
        "id": "b3437b82"
      },
      "source": [
        "**now visualising the Popular Creative Types**"
      ]
    },
    {
      "cell_type": "code",
      "execution_count": null,
      "id": "797f4373",
      "metadata": {
        "execution": {
          "iopub.execute_input": "2022-01-15T13:23:33.031908Z",
          "iopub.status.busy": "2022-01-15T13:23:33.027527Z",
          "iopub.status.idle": "2022-01-15T13:23:33.035210Z",
          "shell.execute_reply": "2022-01-15T13:23:33.035872Z",
          "shell.execute_reply.started": "2022-01-15T13:16:12.114754Z"
        },
        "papermill": {
          "duration": 0.123871,
          "end_time": "2022-01-15T13:23:33.036080",
          "exception": false,
          "start_time": "2022-01-15T13:23:32.912209",
          "status": "completed"
        },
        "tags": [],
        "id": "797f4373"
      },
      "outputs": [],
      "source": [
        "PopularCreativeTypes.head(5)"
      ]
    },
    {
      "cell_type": "code",
      "execution_count": null,
      "id": "8090f0ff",
      "metadata": {
        "execution": {
          "iopub.execute_input": "2022-01-15T13:23:33.245902Z",
          "iopub.status.busy": "2022-01-15T13:23:33.245204Z",
          "iopub.status.idle": "2022-01-15T13:23:33.256739Z",
          "shell.execute_reply": "2022-01-15T13:23:33.257322Z",
          "shell.execute_reply.started": "2022-01-15T13:16:23.393927Z"
        },
        "papermill": {
          "duration": 0.117721,
          "end_time": "2022-01-15T13:23:33.257502",
          "exception": false,
          "start_time": "2022-01-15T13:23:33.139781",
          "status": "completed"
        },
        "tags": [],
        "id": "8090f0ff"
      },
      "outputs": [],
      "source": [
        "PopularCreativeTypes[\"TOTAL GROSS\"] = PopularCreativeTypes[\"TOTAL GROSS\"].str.replace(',','', regex=False)\n",
        "PopularCreativeTypes[\"TOTAL GROSS\"] = PopularCreativeTypes[\"TOTAL GROSS\"].str.replace('$','', regex=False)\n",
        "\n",
        "PopularCreativeTypes[\"AVERAGE GROSS\"] = PopularCreativeTypes[\"AVERAGE GROSS\"].str.replace(',','', regex=False)\n",
        "PopularCreativeTypes[\"AVERAGE GROSS\"] = PopularCreativeTypes[\"AVERAGE GROSS\"].str.replace('$','', regex=False)\n",
        "\n",
        "PopularCreativeTypes[\"MARKET SHARE\"] = PopularCreativeTypes[\"MARKET SHARE\"].str.replace('%','', regex=False)\n",
        "\n",
        "PopularCreativeTypes[\"MOVIES\"] = PopularCreativeTypes[\"MOVIES\"].str.replace(',','', regex=False)"
      ]
    },
    {
      "cell_type": "code",
      "execution_count": null,
      "id": "5ef679be",
      "metadata": {
        "execution": {
          "iopub.execute_input": "2022-01-15T13:23:33.470313Z",
          "iopub.status.busy": "2022-01-15T13:23:33.469580Z",
          "iopub.status.idle": "2022-01-15T13:23:33.472366Z",
          "shell.execute_reply": "2022-01-15T13:23:33.472871Z",
          "shell.execute_reply.started": "2022-01-15T13:16:32.787165Z"
        },
        "papermill": {
          "duration": 0.112005,
          "end_time": "2022-01-15T13:23:33.473067",
          "exception": false,
          "start_time": "2022-01-15T13:23:33.361062",
          "status": "completed"
        },
        "tags": [],
        "id": "5ef679be"
      },
      "outputs": [],
      "source": [
        "PopularCreativeTypes = PopularCreativeTypes.drop(index = 9,axis = 0)"
      ]
    },
    {
      "cell_type": "code",
      "execution_count": null,
      "id": "96f1c085",
      "metadata": {
        "execution": {
          "iopub.execute_input": "2022-01-15T13:23:33.688010Z",
          "iopub.status.busy": "2022-01-15T13:23:33.687196Z",
          "iopub.status.idle": "2022-01-15T13:23:33.689397Z",
          "shell.execute_reply": "2022-01-15T13:23:33.690001Z",
          "shell.execute_reply.started": "2022-01-15T13:16:42.962569Z"
        },
        "papermill": {
          "duration": 0.113821,
          "end_time": "2022-01-15T13:23:33.690180",
          "exception": false,
          "start_time": "2022-01-15T13:23:33.576359",
          "status": "completed"
        },
        "tags": [],
        "id": "96f1c085"
      },
      "outputs": [],
      "source": [
        "PopularCreativeTypes[\"MOVIES\"] = PopularCreativeTypes[\"MOVIES\"].astype(float)\n",
        "PopularCreativeTypes[\"TOTAL GROSS\"] = PopularCreativeTypes[\"TOTAL GROSS\"].astype(float)\n",
        "PopularCreativeTypes[\"AVERAGE GROSS\"] = PopularCreativeTypes[\"AVERAGE GROSS\"].astype(float)\n",
        "PopularCreativeTypes[\"MARKET SHARE\"] = PopularCreativeTypes[\"MARKET SHARE\"].astype(float)"
      ]
    },
    {
      "cell_type": "code",
      "execution_count": null,
      "id": "37b69e9d",
      "metadata": {
        "execution": {
          "iopub.execute_input": "2022-01-15T13:23:33.903452Z",
          "iopub.status.busy": "2022-01-15T13:23:33.902734Z",
          "iopub.status.idle": "2022-01-15T13:23:33.959324Z",
          "shell.execute_reply": "2022-01-15T13:23:33.959872Z",
          "shell.execute_reply.started": "2022-01-15T13:19:24.614277Z"
        },
        "papermill": {
          "duration": 0.167093,
          "end_time": "2022-01-15T13:23:33.960076",
          "exception": false,
          "start_time": "2022-01-15T13:23:33.792983",
          "status": "completed"
        },
        "tags": [],
        "id": "37b69e9d"
      },
      "outputs": [],
      "source": [
        "px.pie(PopularCreativeTypes\n",
        "       ,values = 'TOTAL GROSS' \n",
        "       ,names = 'CREATIVE TYPES'\n",
        "       ,title = 'Percentage of Creative Types in Total Gross'\n",
        "       ,color_discrete_sequence = px.colors.sequential.RdBu\n",
        "       ,height = 600\n",
        "       )"
      ]
    },
    {
      "cell_type": "code",
      "execution_count": null,
      "id": "4e046760",
      "metadata": {
        "execution": {
          "iopub.execute_input": "2022-01-15T13:23:34.284092Z",
          "iopub.status.busy": "2022-01-15T13:23:34.283036Z",
          "iopub.status.idle": "2022-01-15T13:23:34.348945Z",
          "shell.execute_reply": "2022-01-15T13:23:34.349494Z",
          "shell.execute_reply.started": "2022-01-15T13:19:55.238311Z"
        },
        "papermill": {
          "duration": 0.188852,
          "end_time": "2022-01-15T13:23:34.349695",
          "exception": false,
          "start_time": "2022-01-15T13:23:34.160843",
          "status": "completed"
        },
        "tags": [],
        "id": "4e046760"
      },
      "outputs": [],
      "source": [
        "px.bar(PopularCreativeTypes\n",
        "      ,x = \"TOTAL GROSS\"\n",
        "      ,y =\"CREATIVE TYPES\"\n",
        "      ,title = \"Total Gross of Different type\")"
      ]
    },
    {
      "cell_type": "code",
      "execution_count": null,
      "id": "a50f72c3",
      "metadata": {
        "execution": {
          "iopub.execute_input": "2022-01-15T13:23:34.590980Z",
          "iopub.status.busy": "2022-01-15T13:23:34.589900Z",
          "iopub.status.idle": "2022-01-15T13:23:34.645741Z",
          "shell.execute_reply": "2022-01-15T13:23:34.646285Z",
          "shell.execute_reply.started": "2022-01-15T13:20:58.850821Z"
        },
        "papermill": {
          "duration": 0.178478,
          "end_time": "2022-01-15T13:23:34.646481",
          "exception": false,
          "start_time": "2022-01-15T13:23:34.468003",
          "status": "completed"
        },
        "tags": [],
        "id": "a50f72c3"
      },
      "outputs": [],
      "source": [
        "px.pie(PopularCreativeTypes\n",
        "       ,values = 'AVERAGE GROSS' \n",
        "       ,names = 'CREATIVE TYPES'\n",
        "       ,title = 'Percentage of Creative Types in Average Gross'\n",
        "       ,color_discrete_sequence = px.colors.sequential.RdBu\n",
        "       ,height = 600\n",
        "       )"
      ]
    },
    {
      "cell_type": "code",
      "execution_count": null,
      "id": "464e0bc7",
      "metadata": {
        "execution": {
          "iopub.execute_input": "2022-01-15T13:23:34.897646Z",
          "iopub.status.busy": "2022-01-15T13:23:34.896581Z",
          "iopub.status.idle": "2022-01-15T13:23:34.964492Z",
          "shell.execute_reply": "2022-01-15T13:23:34.963693Z",
          "shell.execute_reply.started": "2022-01-15T13:21:52.611873Z"
        },
        "papermill": {
          "duration": 0.194238,
          "end_time": "2022-01-15T13:23:34.964660",
          "exception": false,
          "start_time": "2022-01-15T13:23:34.770422",
          "status": "completed"
        },
        "tags": [],
        "id": "464e0bc7"
      },
      "outputs": [],
      "source": [
        "px.bar(PopularCreativeTypes\n",
        "      ,x = \"AVERAGE GROSS\"\n",
        "      ,y = \"CREATIVE TYPES\"\n",
        "      ,title = \"Average Gross in Different type\")"
      ]
    },
    {
      "cell_type": "code",
      "execution_count": null,
      "id": "8a00a87e",
      "metadata": {
        "execution": {
          "iopub.execute_input": "2022-01-15T13:23:35.226343Z",
          "iopub.status.busy": "2022-01-15T13:23:35.225647Z",
          "iopub.status.idle": "2022-01-15T13:23:35.282161Z",
          "shell.execute_reply": "2022-01-15T13:23:35.282708Z",
          "shell.execute_reply.started": "2022-01-15T13:22:29.839974Z"
        },
        "papermill": {
          "duration": 0.188273,
          "end_time": "2022-01-15T13:23:35.282913",
          "exception": false,
          "start_time": "2022-01-15T13:23:35.094640",
          "status": "completed"
        },
        "tags": [],
        "id": "8a00a87e"
      },
      "outputs": [],
      "source": [
        "px.pie(PopularCreativeTypes\n",
        "       ,values = 'MOVIES' \n",
        "       ,names = 'CREATIVE TYPES'\n",
        "       ,title = 'Percentage of Number of Muvies in Each Types'\n",
        "       ,color_discrete_sequence = px.colors.sequential.RdBu\n",
        "       ,height = 600\n",
        "       )"
      ]
    },
    {
      "cell_type": "code",
      "execution_count": null,
      "id": "a3307a0c",
      "metadata": {
        "execution": {
          "iopub.execute_input": "2022-01-15T13:23:35.560426Z",
          "iopub.status.busy": "2022-01-15T13:23:35.559734Z",
          "iopub.status.idle": "2022-01-15T13:23:35.629874Z",
          "shell.execute_reply": "2022-01-15T13:23:35.629214Z",
          "shell.execute_reply.started": "2022-01-15T13:22:44.339096Z"
        },
        "papermill": {
          "duration": 0.211014,
          "end_time": "2022-01-15T13:23:35.630042",
          "exception": false,
          "start_time": "2022-01-15T13:23:35.419028",
          "status": "completed"
        },
        "tags": [],
        "id": "a3307a0c"
      },
      "outputs": [],
      "source": [
        "px.bar(PopularCreativeTypes\n",
        "      ,x = \"MOVIES\"\n",
        "      ,y =\"CREATIVE TYPES\"\n",
        "      ,title = \"Number of Muvies in Different type\")"
      ]
    },
    {
      "cell_type": "code",
      "execution_count": null,
      "id": "67c6f23f",
      "metadata": {
        "papermill": {
          "duration": 0.143961,
          "end_time": "2022-01-15T13:23:35.918152",
          "exception": false,
          "start_time": "2022-01-15T13:23:35.774191",
          "status": "completed"
        },
        "tags": [],
        "id": "67c6f23f"
      },
      "outputs": [],
      "source": [
        ""
      ]
    }
  ],
  "metadata": {
    "kernelspec": {
      "display_name": "Python 3",
      "language": "python",
      "name": "python3"
    },
    "language_info": {
      "codemirror_mode": {
        "name": "ipython",
        "version": 3
      },
      "file_extension": ".py",
      "mimetype": "text/x-python",
      "name": "python",
      "nbconvert_exporter": "python",
      "pygments_lexer": "ipython3",
      "version": "3.7.12"
    },
    "papermill": {
      "default_parameters": {},
      "duration": 24.696836,
      "end_time": "2022-01-15T13:23:37.077571",
      "environment_variables": {},
      "exception": null,
      "input_path": "__notebook__.ipynb",
      "output_path": "__notebook__.ipynb",
      "parameters": {},
      "start_time": "2022-01-15T13:23:12.380735",
      "version": "2.3.3"
    },
    "colab": {
      "name": "hollywood-theatrical-market-synopsis-1995-to-2021.ipynb",
      "provenance": [],
      "collapsed_sections": [],
      "toc_visible": true
    }
  },
  "nbformat": 4,
  "nbformat_minor": 5
}